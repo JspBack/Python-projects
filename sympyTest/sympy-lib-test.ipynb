{
 "cells": [
  {
   "cell_type": "code",
   "execution_count": 13,
   "metadata": {},
   "outputs": [],
   "source": [
    "import sympy as smp"
   ]
  },
  {
   "cell_type": "code",
   "execution_count": 14,
   "metadata": {},
   "outputs": [
    {
     "data": {
      "text/latex": [
       "$\\displaystyle \\frac{x^{5} \\sin^{2}{\\left(x \\right)}}{10} + \\frac{x^{5} \\cos^{2}{\\left(x \\right)}}{10} - \\frac{x^{4} \\sin{\\left(x \\right)} \\cos{\\left(x \\right)}}{2} + \\frac{x^{3} \\sin^{2}{\\left(x \\right)}}{2} - \\frac{x^{3} \\cos^{2}{\\left(x \\right)}}{2} + \\frac{3 x^{2} \\sin{\\left(x \\right)} \\cos{\\left(x \\right)}}{2} - \\frac{3 x \\sin^{2}{\\left(x \\right)}}{4} + \\frac{3 x \\cos^{2}{\\left(x \\right)}}{4} - \\frac{3 \\sin{\\left(x \\right)} \\cos{\\left(x \\right)}}{4}$"
      ],
      "text/plain": [
       "x**5*sin(x)**2/10 + x**5*cos(x)**2/10 - x**4*sin(x)*cos(x)/2 + x**3*sin(x)**2/2 - x**3*cos(x)**2/2 + 3*x**2*sin(x)*cos(x)/2 - 3*x*sin(x)**2/4 + 3*x*cos(x)**2/4 - 3*sin(x)*cos(x)/4"
      ]
     },
     "execution_count": 14,
     "metadata": {},
     "output_type": "execute_result"
    }
   ],
   "source": [
    "x=smp.symbols(\"x\")\n",
    "smp.integrate(x**4 * smp.sin(x)**2, x)"
   ]
  }
 ],
 "metadata": {
  "kernelspec": {
   "display_name": "Python 3.10.8 64-bit",
   "language": "python",
   "name": "python3"
  },
  "language_info": {
   "codemirror_mode": {
    "name": "ipython",
    "version": 3
   },
   "file_extension": ".py",
   "mimetype": "text/x-python",
   "name": "python",
   "nbconvert_exporter": "python",
   "pygments_lexer": "ipython3",
   "version": "3.10.8"
  },
  "orig_nbformat": 4,
  "vscode": {
   "interpreter": {
    "hash": "1ca5062c770d20c3ac6310761a24a2c6aa736bde54fde5486ac97aee70323a93"
   }
  }
 },
 "nbformat": 4,
 "nbformat_minor": 2
}
